{
 "cells": [
  {
   "cell_type": "code",
   "execution_count": 2,
   "id": "092e918c-4690-4735-9292-e9fcd213cdca",
   "metadata": {},
   "outputs": [],
   "source": [
    "import geopandas as gpd\n",
    "\n",
    "data = gpd.read_file(\"act_0.topojson\")"
   ]
  },
  {
   "cell_type": "code",
   "execution_count": 3,
   "id": "937f2d38-49b2-4272-9c2b-1b91dbe22142",
   "metadata": {},
   "outputs": [
    {
     "data": {
      "text/html": [
       "<div>\n",
       "<style scoped>\n",
       "    .dataframe tbody tr th:only-of-type {\n",
       "        vertical-align: middle;\n",
       "    }\n",
       "\n",
       "    .dataframe tbody tr th {\n",
       "        vertical-align: top;\n",
       "    }\n",
       "\n",
       "    .dataframe thead th {\n",
       "        text-align: right;\n",
       "    }\n",
       "</style>\n",
       "<table border=\"1\" class=\"dataframe\">\n",
       "  <thead>\n",
       "    <tr style=\"text-align: right;\">\n",
       "      <th></th>\n",
       "      <th>id</th>\n",
       "      <th>zone</th>\n",
       "      <th>geometry</th>\n",
       "    </tr>\n",
       "  </thead>\n",
       "  <tbody>\n",
       "    <tr>\n",
       "      <th>0</th>\n",
       "      <td>None</td>\n",
       "      <td>0</td>\n",
       "      <td>MULTIPOLYGON (((149.10124 -35.47977, 149.10110...</td>\n",
       "    </tr>\n",
       "    <tr>\n",
       "      <th>1</th>\n",
       "      <td>None</td>\n",
       "      <td>2</td>\n",
       "      <td>MULTIPOLYGON (((149.13466 -35.26896, 149.13458...</td>\n",
       "    </tr>\n",
       "    <tr>\n",
       "      <th>2</th>\n",
       "      <td>None</td>\n",
       "      <td>3</td>\n",
       "      <td>MULTIPOLYGON (((149.07593 -35.42752, 149.07581...</td>\n",
       "    </tr>\n",
       "    <tr>\n",
       "      <th>3</th>\n",
       "      <td>None</td>\n",
       "      <td>1</td>\n",
       "      <td>MULTIPOLYGON (((149.09300 -35.45566, 149.09300...</td>\n",
       "    </tr>\n",
       "    <tr>\n",
       "      <th>4</th>\n",
       "      <td>None</td>\n",
       "      <td>6</td>\n",
       "      <td>MULTIPOLYGON (((149.12140 -35.36769, 149.12146...</td>\n",
       "    </tr>\n",
       "    <tr>\n",
       "      <th>5</th>\n",
       "      <td>None</td>\n",
       "      <td>5</td>\n",
       "      <td>MULTIPOLYGON (((149.06867 -35.41980, 149.06800...</td>\n",
       "    </tr>\n",
       "    <tr>\n",
       "      <th>6</th>\n",
       "      <td>None</td>\n",
       "      <td>4</td>\n",
       "      <td>MULTIPOLYGON (((149.09064 -35.34839, 149.09050...</td>\n",
       "    </tr>\n",
       "  </tbody>\n",
       "</table>\n",
       "</div>"
      ],
      "text/plain": [
       "     id  zone                                           geometry\n",
       "0  None     0  MULTIPOLYGON (((149.10124 -35.47977, 149.10110...\n",
       "1  None     2  MULTIPOLYGON (((149.13466 -35.26896, 149.13458...\n",
       "2  None     3  MULTIPOLYGON (((149.07593 -35.42752, 149.07581...\n",
       "3  None     1  MULTIPOLYGON (((149.09300 -35.45566, 149.09300...\n",
       "4  None     6  MULTIPOLYGON (((149.12140 -35.36769, 149.12146...\n",
       "5  None     5  MULTIPOLYGON (((149.06867 -35.41980, 149.06800...\n",
       "6  None     4  MULTIPOLYGON (((149.09064 -35.34839, 149.09050..."
      ]
     },
     "execution_count": 3,
     "metadata": {},
     "output_type": "execute_result"
    }
   ],
   "source": [
    "data"
   ]
  },
  {
   "cell_type": "code",
   "execution_count": null,
   "id": "af39cf4c-ef24-45b3-8976-5c5c7a678a24",
   "metadata": {},
   "outputs": [],
   "source": []
  }
 ],
 "metadata": {
  "kernelspec": {
   "display_name": "Python 3 (ipykernel)",
   "language": "python",
   "name": "python3"
  },
  "language_info": {
   "codemirror_mode": {
    "name": "ipython",
    "version": 3
   },
   "file_extension": ".py",
   "mimetype": "text/x-python",
   "name": "python",
   "nbconvert_exporter": "python",
   "pygments_lexer": "ipython3",
   "version": "3.9.7"
  }
 },
 "nbformat": 4,
 "nbformat_minor": 5
}
